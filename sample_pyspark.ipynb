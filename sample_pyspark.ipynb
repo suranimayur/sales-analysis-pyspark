{
 "cells": [
  {
   "cell_type": "code",
   "execution_count": 1,
   "metadata": {},
   "outputs": [],
   "source": [
    "from pyspark.sql import SparkSession\n",
    "import pyspark.sql.functions as F \n",
    "import numpy as np\n",
    "from pyspark.sql.functions import col,sum,round "
   ]
  },
  {
   "cell_type": "code",
   "execution_count": 2,
   "metadata": {},
   "outputs": [],
   "source": [
    "spark = SparkSession.builder.appName(\"name=Spark App\").getOrCreate()"
   ]
  },
  {
   "cell_type": "code",
   "execution_count": 3,
   "metadata": {},
   "outputs": [],
   "source": [
    "df = spark.read.format(\"csv\"). \\\n",
    "    option(\"header\", \"true\").\\\n",
    "    load(\"C:\\\\Users\\\\suran\\\\Downloads\\\\python_project\\\\sales-analysis-pyspark\\\\customer_sales_data.csv\")"
   ]
  },
  {
   "cell_type": "code",
   "execution_count": 4,
   "metadata": {},
   "outputs": [
    {
     "name": "stdout",
     "output_type": "stream",
     "text": [
      "+-----------+----------+--------+--------------+------------------+--------------------+---------+-----+--------+-------------+--------------+\n",
      "|customer_id|product_id|quantity|price_per_unit|total_sales_amount|          sales_date|     city|state|discount|shipping_cost|payment_method|\n",
      "+-----------+----------+--------+--------------+------------------+--------------------+---------+-----+--------+-------------+--------------+\n",
      "|        685|        43|       5|         83.62|             418.1|2020-05-25 07:04:...|San Diego|   TX|    0.09|         5.71|   credit_card|\n",
      "|        560|        32|       8|         64.81|            518.48|2024-04-26 15:13:...|  Houston|   TX|     0.2|         9.48|   credit_card|\n",
      "|        630|        11|       4|         76.21|            304.84|2023-07-28 21:03:...| San Jose|   AZ|    0.13|         8.34|        paypal|\n",
      "|        193|        73|       4|         64.01|            256.04|2023-06-03 01:26:...|  Houston|   CA|    0.17|        18.76|   credit_card|\n",
      "|        836|        99|       1|         36.66|             36.66|2024-07-28 21:56:...|  Phoenix|   NY|    0.09|        17.73|   credit_card|\n",
      "+-----------+----------+--------+--------------+------------------+--------------------+---------+-----+--------+-------------+--------------+\n",
      "only showing top 5 rows\n",
      "\n"
     ]
    }
   ],
   "source": [
    "df.show(5)"
   ]
  },
  {
   "cell_type": "code",
   "execution_count": null,
   "metadata": {},
   "outputs": [],
   "source": [
    "### Find total sales by states\n",
    "\n",
    "state_wide_sales = df.groupBy(\"state\").agg(round(sum(\"total_sales_amount\"),2).alias(\"Total_sales\"))\n"
   ]
  },
  {
   "cell_type": "code",
   "execution_count": null,
   "metadata": {},
   "outputs": [],
   "source": [
    "statewise_sum = df.groupBy(\"state\").agg(round(sum(\"total_sales_amount\")/ 1000000, 2).alias(\"total_sales in M $\"))"
   ]
  },
  {
   "cell_type": "code",
   "execution_count": null,
   "metadata": {},
   "outputs": [
    {
     "name": "stdout",
     "output_type": "stream",
     "text": [
      "+-----+------------------+\n",
      "|state|total_sales in M $|\n",
      "+-----+------------------+\n",
      "|   AZ|             25.19|\n",
      "|   CA|             75.65|\n",
      "|   IL|             25.23|\n",
      "|   PA|             25.24|\n",
      "|   NY|             25.12|\n",
      "+-----+------------------+\n",
      "only showing top 5 rows\n",
      "\n"
     ]
    }
   ],
   "source": [
    "statewise_sum.show(5)"
   ]
  },
  {
   "cell_type": "code",
   "execution_count": null,
   "metadata": {},
   "outputs": [],
   "source": [
    "top_10_products = df.groupBy(\"product_id\").agg(round(sum(\"total_sales_amount\")/1000000,2).alias(\"Total Sales in Million\")).orderBy(F.col(\"Total Sales in Million\").desc())"
   ]
  },
  {
   "cell_type": "code",
   "execution_count": null,
   "metadata": {},
   "outputs": [
    {
     "name": "stdout",
     "output_type": "stream",
     "text": [
      "+----------+----------------------+\n",
      "|product_id|Total Sales in Million|\n",
      "+----------+----------------------+\n",
      "|        18|                  2.63|\n",
      "|        75|                  2.62|\n",
      "|        89|                  2.61|\n",
      "|        86|                  2.61|\n",
      "|        73|                   2.6|\n",
      "+----------+----------------------+\n",
      "only showing top 5 rows\n",
      "\n"
     ]
    }
   ],
   "source": [
    "top_10_products.show(5)"
   ]
  },
  {
   "cell_type": "code",
   "execution_count": null,
   "metadata": {},
   "outputs": [],
   "source": [
    "## Top 5 states by sales in million\n",
    "\n",
    "top_5_states = df.groupBy(\"state\").agg(F.round(F.sum(\"total_sales_amount\")/1000000,2).alias(\"total_sales_million\")).orderBy(F.col(\"total_sales_million\").desc())"
   ]
  },
  {
   "cell_type": "code",
   "execution_count": null,
   "metadata": {},
   "outputs": [
    {
     "name": "stdout",
     "output_type": "stream",
     "text": [
      "+-----+-------------------+\n",
      "|state|total_sales_million|\n",
      "+-----+-------------------+\n",
      "|   TX|              75.91|\n",
      "|   CA|              75.65|\n",
      "|   PA|              25.24|\n",
      "|   IL|              25.23|\n",
      "|   AZ|              25.19|\n",
      "+-----+-------------------+\n",
      "only showing top 5 rows\n",
      "\n"
     ]
    }
   ],
   "source": [
    "top_5_states.show(5)"
   ]
  },
  {
   "cell_type": "code",
   "execution_count": null,
   "metadata": {},
   "outputs": [
    {
     "name": "stdout",
     "output_type": "stream",
     "text": [
      "+------------+-------------------+\n",
      "|        city|total_sales_million|\n",
      "+------------+-------------------+\n",
      "|    San Jose|              25.45|\n",
      "| Los Angeles|              25.35|\n",
      "|      Dallas|              25.32|\n",
      "| San Antonio|              25.27|\n",
      "|Philadelphia|              25.26|\n",
      "|     Phoenix|              25.22|\n",
      "|   San Diego|              25.19|\n",
      "|    New York|              25.19|\n",
      "|     Chicago|              25.06|\n",
      "|     Houston|              25.02|\n",
      "+------------+-------------------+\n",
      "\n"
     ]
    }
   ],
   "source": [
    "# Top 10 cities by sales \n",
    "\n",
    "top_10_cities = df.groupBy(\"city\").agg(F.round(F.sum(\"total_sales_amount\")/1000000,2).alias(\"total_sales_million\")).orderBy(F.col(\"total_sales_million\").desc())\n",
    "top_10_cities.show(10)"
   ]
  },
  {
   "cell_type": "code",
   "execution_count": null,
   "metadata": {},
   "outputs": [
    {
     "name": "stdout",
     "output_type": "stream",
     "text": [
      "+-----+-------------+\n",
      "|state|  Total_sales|\n",
      "+-----+-------------+\n",
      "|   AZ|2.518615761E7|\n",
      "|   CA|7.564927844E7|\n",
      "|   IL|2.523478658E7|\n",
      "|   PA|2.524279932E7|\n",
      "|   NY|2.511794722E7|\n",
      "|   TX|7.590743722E7|\n",
      "+-----+-------------+\n",
      "\n",
      "+-----+------------------+\n",
      "|state|total_sales in M $|\n",
      "+-----+------------------+\n",
      "|   AZ|             25.19|\n",
      "|   CA|             75.65|\n",
      "|   IL|             25.23|\n",
      "|   PA|             25.24|\n",
      "|   NY|             25.12|\n",
      "|   TX|             75.91|\n",
      "+-----+------------------+\n",
      "\n",
      "+----------+----------------------+\n",
      "|product_id|Total Sales in Million|\n",
      "+----------+----------------------+\n",
      "|        18|                  2.63|\n",
      "|        75|                  2.62|\n",
      "|        89|                  2.61|\n",
      "|        86|                  2.61|\n",
      "|        42|                   2.6|\n",
      "|        73|                   2.6|\n",
      "|        12|                   2.6|\n",
      "|        66|                   2.6|\n",
      "|        91|                   2.6|\n",
      "|        69|                  2.59|\n",
      "|        34|                  2.59|\n",
      "|        43|                  2.59|\n",
      "|        31|                  2.59|\n",
      "|        44|                  2.59|\n",
      "|        81|                  2.59|\n",
      "|         9|                  2.59|\n",
      "|        57|                  2.59|\n",
      "|        35|                  2.58|\n",
      "|        28|                  2.58|\n",
      "|        52|                  2.58|\n",
      "+----------+----------------------+\n",
      "only showing top 20 rows\n",
      "\n",
      "+-----+-------------------+\n",
      "|state|total_sales_million|\n",
      "+-----+-------------------+\n",
      "|   TX|              75.91|\n",
      "|   CA|              75.65|\n",
      "|   PA|              25.24|\n",
      "|   IL|              25.23|\n",
      "|   AZ|              25.19|\n",
      "|   NY|              25.12|\n",
      "+-----+-------------------+\n",
      "\n",
      "+------------+-------------------+\n",
      "|        city|total_sales_million|\n",
      "+------------+-------------------+\n",
      "|    San Jose|              25.45|\n",
      "| Los Angeles|              25.35|\n",
      "|      Dallas|              25.32|\n",
      "| San Antonio|              25.27|\n",
      "|Philadelphia|              25.26|\n",
      "|     Phoenix|              25.22|\n",
      "|   San Diego|              25.19|\n",
      "|    New York|              25.19|\n",
      "|     Chicago|              25.06|\n",
      "|     Houston|              25.02|\n",
      "+------------+-------------------+\n",
      "\n"
     ]
    }
   ],
   "source": [
    "## Show the results \n",
    "\n",
    "state_wide_sales.show()\n",
    "statewise_sum.show()\n",
    "top_10_products.show()\n",
    "top_5_states.show()\n",
    "top_10_cities.show()"
   ]
  },
  {
   "cell_type": "markdown",
   "metadata": {},
   "source": [
    "### Integrate it with git \n",
    "\n",
    "\n",
    "` git config --global user.name \"suranimayur\" `\n",
    "\n",
    "` git config --global user.email \"surani.mayur@gmail.com\" `\n",
    "\n",
    "### Authenticate with GitHub \n",
    "\n",
    "git credential-manager-core configure\n",
    "\n"
   ]
  },
  {
   "cell_type": "markdown",
   "metadata": {},
   "source": [
    "git remote add origin \"url\"\n",
    "\n",
    "###### Check the status of the repository\n",
    "\n",
    "git remote -v \n",
    "\n",
    "###### Add files to the staging area\n",
    "\n",
    "git add.\n",
    "\n",
    "###### Commit the changes\n",
    "\n",
    "git commit -m \"Add Spark code for data analysis\"\n",
    "\n",
    "###### Push the changes to the remote repository\n",
    "\n",
    "git push -u origin master \n",
    "\n",
    "###### To pull changes from remote repository\n",
    "\n",
    "git pull origin master\n",
    "\n"
   ]
  },
  {
   "cell_type": "markdown",
   "metadata": {},
   "source": [
    "Thanks "
   ]
  },
  {
   "cell_type": "markdown",
   "metadata": {},
   "source": [
    "Thanks for watching this video"
   ]
  }
 ],
 "metadata": {
  "kernelspec": {
   "display_name": "venv-FrrIKUGP",
   "language": "python",
   "name": "python3"
  },
  "language_info": {
   "codemirror_mode": {
    "name": "ipython",
    "version": 3
   },
   "file_extension": ".py",
   "mimetype": "text/x-python",
   "name": "python",
   "nbconvert_exporter": "python",
   "pygments_lexer": "ipython3",
   "version": "3.11.9"
  }
 },
 "nbformat": 4,
 "nbformat_minor": 2
}
